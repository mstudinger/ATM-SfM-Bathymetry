{
 "cells": [
  {
   "cell_type": "markdown",
   "id": "1f6465a1-ac4b-47e3-a8fa-7e9a405a8277",
   "metadata": {},
   "source": [
    "## <div align=\"center\">Create profile from start and end coordinates and sample raster along profile</div>"
   ]
  },
  {
   "cell_type": "markdown",
   "id": "e352ff12-7dba-478e-a5de-5b0b504c0770",
   "metadata": {},
   "source": [
    "The Python™ tools in this notebook were developed for sampling SfM, ASP stereo and lidar bathymetery grids along a desired profile for comparison. Their basic functionality and verification are demsonstrated in this Jupyter notebook using a test surface elevation grid.\n",
    "\n",
    "**Note:** Both, QGIS and `rasterio.sample` used here do NOT interpolate between neighboring grid cells, but return the value of the grid cell at the requested sample location. "
   ]
  },
  {
   "cell_type": "code",
   "execution_count": 1,
   "id": "e018adf3-9f19-4caf-ba2d-d67c656e7b9a",
   "metadata": {},
   "outputs": [],
   "source": [
    "# load required modules, set output file name and processing switches\n",
    "\n",
    "import pyproj\n",
    "import rasterio\n",
    "import numpy as np\n",
    "import pandas as pd\n",
    "\n",
    "# the two lines before importing GeoPandas are to turn off a warning message and tell GeoPandas to use Shapely instead of PyGEOS\n",
    "import os\n",
    "os.environ['USE_PYGEOS'] = '0'\n",
    "import geopandas as gpd\n",
    "from   pyproj import Transformer\n",
    "\n",
    "# file names\n",
    "f_name_gpkg_raw = r\"..\\data\\example_files\\ice_divide_test_profile.gpkg\"\n",
    "f_name_gpkg_res = r\"..\\data\\example_files\\ice_divide_test_profile_srf.gpkg\" \n",
    "f_name_geotiff  = r\"..\\data\\example_files\\Greenland_example_ice_surface_elevation_for_testing_1000m.tif\"\n",
    "\n",
    "VERBOSE = 2 # 0 = silent, 1 = displays profile information, 2 = displays profile information and WKT string"
   ]
  },
  {
   "cell_type": "markdown",
   "id": "ba88ced7-f67a-4376-992c-342016299bec",
   "metadata": {},
   "source": [
    "### Step 1: pick start and endpoints of desired profile  \n",
    "For the purpose of this tutorial we will use a data set with EPSG:3413 as Coordinate Reference System (CRS) and define the start end end points of the profile interactively in a QGIS map project. Use the profile tool (ruler symbol) in QGIS for interactively picking start and end points."
   ]
  },
  {
   "cell_type": "code",
   "execution_count": 2,
   "id": "a6c3f6aa-c9fc-4f86-a7b8-4ce8420434bb",
   "metadata": {},
   "outputs": [],
   "source": [
    "# projected coordinates are in EPSG:3413 and picked in QGIS\n",
    "x_e = -32217.228; y_e = -2499388.744;\t\n",
    "x_s = 158293.158; y_s = -2689040.009;"
   ]
  },
  {
   "cell_type": "markdown",
   "id": "3e0d0ca5-1021-4553-a2b9-6f4cbb132a78",
   "metadata": {},
   "source": [
    "### Step 2: transform profile start and end points to lat lon"
   ]
  },
  {
   "cell_type": "code",
   "execution_count": 3,
   "id": "79e6f2c1-1f85-4039-ab8f-6794142e44bc",
   "metadata": {},
   "outputs": [],
   "source": [
    "# EPSG:3413 NSIDC Sea Ice Polar Stereographic North/WGS-84 used for Greenland\n",
    "# EPSG:4326 WGS84 - World Geodetic System 1984, used in GPS and DGPS trajectories\n",
    "\n",
    "geo2xy = pyproj.Transformer.from_crs(4326,3413)\n",
    "xy2geo = pyproj.Transformer.from_crs(3413,4326)\n",
    "\n",
    "[lat_s,lon_s] = xy2geo.transform(x_s,y_s) \n",
    "[lat_e,lon_e] = xy2geo.transform(x_e,y_e) "
   ]
  },
  {
   "cell_type": "markdown",
   "id": "bcb76619-7b23-4dda-85c8-e8637b8ac511",
   "metadata": {},
   "source": [
    "### Step 3: set up local map projection along to profile"
   ]
  },
  {
   "cell_type": "code",
   "execution_count": 4,
   "id": "f6025db1-f54d-4afd-bf3f-ce715cd8884e",
   "metadata": {},
   "outputs": [],
   "source": [
    "# set up local map projection along to profile\n",
    "local_map_proj = \"+proj=tpeqd +lon_1 ={} +lat_1={} +lon_2={} +lat_2={} +x_0=0 y_0=0 +ellps=WGS84 +units=m +datum=WGS84 +no_defs\".format(lon_s, lat_s, lon_e, lat_e)\n",
    "crs_local = pyproj.CRS(local_map_proj)\n",
    "\n",
    "# define local forward and inverse map projections\n",
    "ll_to_xy = Transformer.from_crs(\"+proj=longlat +datum=WGS84 +no_defs\",local_map_proj)\n",
    "xy_to_ll = Transformer.from_crs(local_map_proj,\"+proj=longlat +datum=WGS84 +no_defs\")"
   ]
  },
  {
   "cell_type": "markdown",
   "id": "337e553e-360d-4c48-869d-b64c56dada41",
   "metadata": {},
   "source": [
    "### Step 4: transform profile start and end points to local projected coordinates"
   ]
  },
  {
   "cell_type": "code",
   "execution_count": 5,
   "id": "18182411-7fa2-4c2a-aff8-9362579e17c6",
   "metadata": {},
   "outputs": [],
   "source": [
    "x_s, y_s = ll_to_xy.transform(lon_s, lat_s)\n",
    "x_e, y_e = ll_to_xy.transform(lon_e, lat_e)\n",
    "\n",
    "if VERBOSE == 1:\n",
    "    print(f\"Start : x_s: {x_s:+10.2f} m  |  x_e: {x_e:+10.2f} m\")\n",
    "    print(f\"End   : y_s: {y_s:+10.2f} m  |  y_e: {y_e:+10.2f} m\")    \n",
    "    print(f\"Length:                            {x_e - x_s:10.2f} m\")"
   ]
  },
  {
   "cell_type": "markdown",
   "id": "15c0c4be-c800-4392-968b-3801920b820d",
   "metadata": {},
   "source": [
    "### Step 5: create equally spaced vertices along x-axis of profile and set up x,y coordinate arrays for export"
   ]
  },
  {
   "cell_type": "code",
   "execution_count": 6,
   "id": "a0eef4b5-81ae-4a92-b7c4-5664918bcf35",
   "metadata": {},
   "outputs": [
    {
     "name": "stdout",
     "output_type": "stream",
     "text": [
      "spacing : 500.85 m\n",
      "n_points: 530\n"
     ]
    }
   ],
   "source": [
    "# first determine number of points to roughly get desired spacing. Note: np.arange(x_s, y_s, 50) does not include end point. use np.linspace\n",
    "\n",
    "spacing = 500.0 # approximate distance in meters between vertices\n",
    "n_points = (x_e - x_s)/spacing  \n",
    "n_points = int(np.ceil(n_points)) # needs to be rounded and converted to integer\n",
    "    \n",
    "x_array, x_spacing = np.linspace(x_s, x_e, num = n_points, endpoint=True, retstep=True) # includes end point and reports spacing\n",
    "\n",
    "print(f\"spacing : {x_spacing:.2f} m\")\n",
    "print(f\"n_points: {len(x_array):d}\")\n",
    "\n",
    "# create array with y coordinates = 0.0 with same length as x_array, since y coordinates along great circle are only 0 for start and end points\n",
    "y_array = x_array * 0.0\n",
    "\n",
    "# create array with x_distance starting at profile start and same length as x_array\n",
    "x_dist = x_array + x_e"
   ]
  },
  {
   "cell_type": "markdown",
   "id": "6c1dca10-2d94-42b6-a6d3-9d3f35e1345c",
   "metadata": {},
   "source": [
    "### Step 6: reproject local projection to EPSG:3413"
   ]
  },
  {
   "cell_type": "code",
   "execution_count": 7,
   "id": "5f502b22-c927-4539-bd72-fdbe3d2648de",
   "metadata": {},
   "outputs": [],
   "source": [
    "# first back to lat lon\n",
    "lon, lat = xy_to_ll.transform(x_array, y_array)\n",
    "# then lat lon to EPSG:3413\n",
    "x, y = geo2xy.transform(lat, lon) # need to flip lat lon order"
   ]
  },
  {
   "cell_type": "markdown",
   "id": "5ddd8f3a-247f-4c8a-9953-3d6b6e1a3e72",
   "metadata": {},
   "source": [
    "### Step 7: set up GeoDataFrame with point geometry"
   ]
  },
  {
   "cell_type": "code",
   "execution_count": 8,
   "id": "8d093002-9284-41fd-b005-853f362c2569",
   "metadata": {},
   "outputs": [],
   "source": [
    "# create dataframe from scratch\n",
    "profile_df = pd.DataFrame({'Longitude': x, 'Latitude': y, 'Distance': x_dist})\n",
    "\n",
    "# replace lat lon geometry field with converted longitude in GeoDataFrame:\n",
    "profile_gdf = gpd.GeoDataFrame(profile_df, geometry=gpd.points_from_xy(profile_df['Longitude'], profile_df['Latitude']))\n",
    "\n",
    "# remove latitude and longitude columns since they are stored in geometry field\n",
    "# mostly matters for large files -> faster load in QGIS and smaller file sizes\n",
    "profile_gdf = profile_gdf.drop(columns=['Longitude'])\n",
    "profile_gdf = profile_gdf.drop(columns=['Latitude'])\n",
    "\n",
    "# set up the coordinate system for GeoDataPackage\n",
    "profile_gdf = profile_gdf.set_crs(\"EPSG:3413\")"
   ]
  },
  {
   "cell_type": "markdown",
   "id": "e015e673-f8d9-41f1-8588-d67d23450960",
   "metadata": {},
   "source": [
    "### Step 8: save GeoDataPackage file"
   ]
  },
  {
   "cell_type": "code",
   "execution_count": 9,
   "id": "5718ba35-7392-468d-8198-40075c5b2deb",
   "metadata": {},
   "outputs": [],
   "source": [
    "profile_gdf.to_file(f_name_gpkg_raw, driver=\"GPKG\")"
   ]
  },
  {
   "cell_type": "markdown",
   "id": "dbf2b58c-2ac5-43c9-b9dd-aadff2fd6067",
   "metadata": {},
   "source": [
    "### Step 9: export WKT string with local map projection"
   ]
  },
  {
   "cell_type": "code",
   "execution_count": 10,
   "id": "eb1a6193-f2ca-4af7-8c8c-c944a608fcc7",
   "metadata": {},
   "outputs": [
    {
     "name": "stdout",
     "output_type": "stream",
     "text": [
      "Well-known text (WKT) representation of local map projection along profile:\n",
      "\n",
      "PROJCS[\"unknown\",GEOGCS[\"unknown\",DATUM[\"WGS_1984\",SPHEROID[\"WGS 84\",6378137,298.257223563,AUTHORITY[\"EPSG\",\"7030\"]],AUTHORITY[\"EPSG\",\"6326\"]],PRIMEM[\"Greenwich\",0,AUTHORITY[\"EPSG\",\"8901\"]],UNIT[\"degree\",0.0174532925199433,AUTHORITY[\"EPSG\",\"9122\"]]],PROJECTION[\"Two_Point_Equidistant\"],PARAMETER[\"Latitude_Of_1st_Point\",65.4989714571374],PARAMETER[\"Longitude_Of_1st_Point\",-41.6311116126087],PARAMETER[\"Latitude_Of_2nd_Point\",67.2183588300425],PARAMETER[\"Longitude_Of_2nd_Point\",-45.7385041530438],PARAMETER[\"false_easting\",0],PARAMETER[\"false_northing\",0],UNIT[\"metre\",1,AUTHORITY[\"EPSG\",\"9001\"]],AXIS[\"Easting\",EAST],AXIS[\"Northing\",NORTH]]\n"
     ]
    }
   ],
   "source": [
    "if VERBOSE > 1:\n",
    "    from osgeo import osr\n",
    "    osr.UseExceptions()\n",
    "    srs = osr.SpatialReference()\n",
    "    srs.ImportFromProj4(local_map_proj)\n",
    "    print(\"Well-known text (WKT) representation of local map projection along profile:\\n\")\n",
    "    print(srs.ExportToWkt())"
   ]
  },
  {
   "cell_type": "markdown",
   "id": "80c9404b-1f37-432a-bbc9-b6d1cabdb7f3",
   "metadata": {},
   "source": [
    "### Step 10: load profile GeoDataPackage file in QGIS map project and sample raster file for verification data  \n",
    "**Note:** you can skip this step and use the GeoDataPackage with resampled ice surface elevations provided in this repository.  \n",
    "\n",
    "QGIS instructions:\n",
    "1) Project -> New: select \"./data/example_files/Greenland_example_ice_surface_elevation_for_testing_1000m.tif\"\n",
    "2) Layer -> Add Layer -> Add Raster Layer: select \"./data/example_files/ice_divide_test_profile.gpkg\"\n",
    "3) Processing Toolbox -> Raster analysis -> Sample raster values: save as \"./data/example_files/ice_divide_test_profile_srf.gpkg\" "
   ]
  },
  {
   "cell_type": "markdown",
   "id": "5e1d4ed0-84dc-4795-880a-822f3269f414",
   "metadata": {},
   "source": [
    "### Step 11: load profile GeoDataPackage file with QGIS resampled surface elevation values as test data"
   ]
  },
  {
   "cell_type": "code",
   "execution_count": 11,
   "id": "bd8084d1-7bf0-4ab0-a7f7-42b6ab185baf",
   "metadata": {},
   "outputs": [],
   "source": [
    "profile_gdf = gpd.read_file(f_name_gpkg_res)\n",
    "coord_list = [(x,y) for x,y in zip(profile_gdf['geometry'].x , profile_gdf['geometry'].y)]"
   ]
  },
  {
   "cell_type": "markdown",
   "id": "d5928260-3dd7-48f3-ab32-979a2cbae11a",
   "metadata": {},
   "source": [
    "### Step 12: compare QGIS and Python surface elevations resampled from GeoTiff raster file"
   ]
  },
  {
   "cell_type": "code",
   "execution_count": 12,
   "id": "9d84b723-811e-43b2-bb8f-7917268a7d81",
   "metadata": {},
   "outputs": [
    {
     "name": "stdout",
     "output_type": "stream",
     "text": [
      "Δz min : +0.000000 m\n",
      "Δz max : +0.000000 m\n",
      "Δz mean: +0.000000 m\n",
      "n_pts  : 530\n"
     ]
    }
   ],
   "source": [
    "resampled_gdf = profile_gdf.copy()  # create copy of original GDF and keep original unchanged\n",
    "with rasterio.open(f_name_geotiff) as src:\n",
    "    resampled_gdf['srf_int'] = [x[0] for x in src.sample(coord_list)]\n",
    "\n",
    "diff = np.asarray(resampled_gdf.srf_int - resampled_gdf.SRF_1)\n",
    "\n",
    "# display comparison\n",
    "print(f\"Δz min : {np.min(diff):+4.6f} m\")\n",
    "print(f\"Δz max : {np.max(diff):+4.6f} m\")\n",
    "print(f\"Δz mean: {np.mean(diff):+4.6f} m\")\n",
    "print(f\"n_pts  : {len(diff):d}\")"
   ]
  },
  {
   "cell_type": "code",
   "execution_count": 13,
   "id": "3b90ec28-93fe-45cf-8f24-bcca908f9e19",
   "metadata": {},
   "outputs": [
    {
     "name": "stdout",
     "output_type": "stream",
     "text": [
      "         Distance        SRF_1                         geometry      srf_int\n",
      "0   -1.699664e-08  1656.426880  POINT (158293.062 -2689040.106)  1656.426880\n",
      "1    5.008539e+02  1656.426880  POINT (157930.822 -2688681.488)  1656.426880\n",
      "2    1.001708e+03  1678.612915  POINT (157568.398 -2688323.064)  1678.612915\n",
      "3    1.502562e+03  1678.612915  POINT (157206.176 -2687964.446)  1678.612915\n",
      "4    2.003416e+03  1695.448120  POINT (156843.769 -2687606.022)  1695.448120\n",
      "..            ...          ...                              ...          ...\n",
      "525  2.629483e+05  2121.612793  POINT (-30785.234 -2500822.902)  2121.612793\n",
      "526  2.634492e+05  2121.637207  POINT (-31143.341 -2500464.459)  2121.637207\n",
      "527  2.639500e+05  2117.739014  POINT (-31501.247 -2500105.823)  2117.739014\n",
      "528  2.644509e+05  2115.763184  POINT (-31859.241 -2499747.284)  2115.763184\n",
      "529  2.649517e+05  2108.476074  POINT (-32217.228 -2499388.744)  2108.476074\n",
      "\n",
      "[530 rows x 4 columns]\n"
     ]
    }
   ],
   "source": [
    "print(resampled_gdf)"
   ]
  }
 ],
 "metadata": {
  "kernelspec": {
   "display_name": "geo",
   "language": "python",
   "name": "geo"
  },
  "language_info": {
   "codemirror_mode": {
    "name": "ipython",
    "version": 3
   },
   "file_extension": ".py",
   "mimetype": "text/x-python",
   "name": "python",
   "nbconvert_exporter": "python",
   "pygments_lexer": "ipython3",
   "version": "3.12.3"
  }
 },
 "nbformat": 4,
 "nbformat_minor": 5
}
