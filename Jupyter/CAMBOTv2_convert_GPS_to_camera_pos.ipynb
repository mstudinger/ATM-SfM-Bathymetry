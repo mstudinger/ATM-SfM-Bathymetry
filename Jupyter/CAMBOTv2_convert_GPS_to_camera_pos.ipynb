{
 "cells": [
  {
   "cell_type": "markdown",
   "id": "b3a49088-15d2-4be1-815a-0493bd369fa3",
   "metadata": {},
   "source": [
    "## Conversion of CAMBOTv2 GPS antenna positions  \n",
    "## to the camera's focal plane position"
   ]
  },
  {
   "cell_type": "markdown",
   "id": "b6dd70e7-8735-4c20-bc67-034bdd7c8f7c",
   "metadata": {},
   "source": [
    "The ATM CAMBOTv2 L0 data product also provides position information for each L0 raw image. To use these GPS positions in ATM auxiliary files for processing with the Ames Stereo Pipeline ([ASP](https://stereopipeline.readthedocs.io/en/latest/index.html)) they have to be converted from GPS antenna coordinates to the camera's focal plane position. This is done by rotating and translating the antenna phase center coodinate using attitude (pitch, roll, and yaw) information and the lever arm between the GPS antenna's phase center and the camera's focal plane. All information is provided in the auxilliary navigation files.\n",
    "\n",
    "The files are part of NASA's Airborne Topographic Mapper (ATM) CAMBOTv2 L0 raw images and are freely available from the National Snow and Ice Data Center (data set ID: IOCAM0):  \n",
    "https://nsidc.org/data/iocam0/versions/1  \n",
    "DOI: https://doi.org/10.5067/IOJH8A5F48J5  \n",
    "**NOTE:** An example auxilliary navigation file is included in this repository in the folder `data/nav` and will be used in this notebook.\n",
    "\n",
    "The matrices for the coordinate transformation are described in the geolocation documentation:  \n",
    "https://nsidc.org/sites/default/files/oib_cambot_geolocation.pdf"
   ]
  },
  {
   "cell_type": "markdown",
   "id": "4e4dac14-9330-4bd8-864e-1eb09eb411bf",
   "metadata": {},
   "source": [
    "First, load the required modules and set up the input and output file names for conversion."
   ]
  },
  {
   "cell_type": "code",
   "execution_count": 1,
   "id": "48f0eac2-c36c-4295-9d33-88ce876079cb",
   "metadata": {},
   "outputs": [],
   "source": [
    "import pandas as pd\n",
    "import numpy as np\n",
    "import pyproj\n",
    "import re\n",
    "import os\n",
    "\n",
    "# set input directory with navitagion file for conversion\n",
    "f_dir_nav = r\"..\" + os.sep + \"data\" + os.sep + \"nav\"\n",
    "\n",
    "# set input and output file names\n",
    "f_name_aux = f_dir_nav + os.sep + \"IOCAM0_2019_GR_NASA_20190906_ancillary_data.csv\"\n",
    "f_name_asp = f_dir_nav + os.sep + \"IOCAM0_2019_GR_NASA_20190906_camera_positions.csv\"\n"
   ]
  },
  {
   "cell_type": "markdown",
   "id": "e698e559-4c3a-43d0-ad5e-cd18e27f26e9",
   "metadata": {},
   "source": [
    "ATM auxiliary (aux) file format:\n",
    "\n",
    "    # CAMBOT positioning and installation info for 2019_GR_NASA on GV (N95NA)\n",
    "    # Input ancillary file: 20190906_CAMBOT_ancillary_precise.csv, updated: Mon Jul 13 17:20:49 2020\n",
    "    # Camera offset from GPS antenna (in meters) [x-forward, y-starboard, z-down]: -4.463, 0.092, 2.042\n",
    "    # Camera angular mounting biases (in deg, to be added to attitude measurements) [pitch, roll, heading]: 0.0, 0.0, 0.0\n",
    "    # Range bias (in m, already added to range measurement): 0\n",
    "    # Time offset (in sec, to be added to image timestamp to get UTC): -0.4338\n",
    "    #         ImageFilename,             Timestamp(UTC), PosixTime(UTC),     Lat(deg),     Lon(deg), AntAlt(m),    AGL(m), Roll(deg), >Pitch(deg), Heading(deg)\n",
    "    IOCAM0_2019_GR_NASA_20190906-112100.4216.jpg, 2019-09-06T11:21:00.000000, 1567768860.000,    76.493496,   -68.125623,  1193.617, >-9999.000,     5.518,      3.786,       55.536\n",
    "    IOCAM0_2019_GR_NASA_20190906-112100.9217.jpg, 2019-09-06T11:21:00.500000, 1567768860.500,    76.493816,   -68.123564,  1193.840, -9999.000,     6\n",
    "\n",
    "The ASP camera position format can be set with processing parameters: `--csv-format \"1:file 2:lon 3:lat 4:height_above_datum\"` in the `camera_solve` tool.\n",
    "\n",
    ">`# ID, longitude, latitude, elevation`  \n",
    ">`2009_11_05_00266, -62.73216039, -62.95223574, 10089`  \n",
    ">`2009_11_05_00267, -62.71861428, -62.95946623, 10088`"
   ]
  },
  {
   "cell_type": "code",
   "execution_count": 2,
   "id": "ddd9967d-9f66-4fe7-a184-f8fb1f27fe15",
   "metadata": {},
   "outputs": [],
   "source": [
    "# import ATM aux file as data frame \n",
    "df = pd.read_csv(f_name_aux,skiprows = 6) # reads column names\n",
    "\n",
    "# clean up data frame and extract required parameters into numpy arrays\n",
    "# rearrange output columns:  # ID, longitude, latitude, elevation, AGL, pitch, roll, heading\n",
    "df = df.iloc[:, [0,4,3,5,6,8,7,9]]\n",
    "\n",
    "# rename column headers\n",
    "df = df.rename(columns={df.columns[0]: '# ID', df.columns[1]:'longitude', df.columns[2]:'latitude', df.columns[3]:'elevation', df.columns[4]:'agl', \n",
    "                        df.columns[5]:'pitch', df.columns[6]:'roll', df.columns[7]:'yaw'})\n",
    "\n",
    "ant_lon = np.asarray(df[\"longitude\"]) # float64\n",
    "ant_lat = np.asarray(df[\"latitude\"])  # float64\n",
    "ant_ele = np.asarray(df[\"elevation\"]) # float64\n",
    "\n",
    "pitch   = np.asarray(df[\"pitch\"]) # float64\n",
    "roll    = np.asarray(df[\"roll\"])  # float64\n",
    "yaw     = np.asarray(df[\"yaw\"])   # float64\n",
    "\n",
    "agl     = np.asarray(df[\"agl\"])   # float64\n",
    "\n",
    "# convert coordinate and attitude angles from degrees to radians and use vectorizationg for faster execution\n",
    "lon_rad = np.deg2rad(ant_lon)\n",
    "lat_rad = np.deg2rad(ant_lat)\n",
    "p_rad = np.deg2rad(pitch)\n",
    "r_rad = np.deg2rad(roll)\n",
    "y_rad = np.deg2rad(yaw)"
   ]
  },
  {
   "cell_type": "code",
   "execution_count": 3,
   "id": "c33958de-d1a4-4682-8bb0-a156341e8f94",
   "metadata": {},
   "outputs": [],
   "source": [
    "# extract lever arm components from ATM aux file\n",
    "# open file in read mode\n",
    "save = open(f_name_aux, 'r')\n",
    "# setting reader vars\n",
    "lreader = save.readlines()\n",
    "# minus 1 removes the \\n at the end\n",
    "lever = lreader[2][78:-1]\n",
    "lever_arm_str = re.split(',', lever, maxsplit=0, flags=0)\n",
    "x_forward   = float(lever_arm_str[0])\n",
    "y_starboard = float(lever_arm_str[1])\n",
    "z_down      = float(lever_arm_str[2])\n",
    "lever_arm_sensor = np.array([x_forward, y_starboard, z_down])\n",
    "del save, lreader, lever, lever_arm_str"
   ]
  },
  {
   "cell_type": "code",
   "execution_count": 4,
   "id": "94936cc2-2060-42d3-b94c-c0d184376b9f",
   "metadata": {},
   "outputs": [],
   "source": [
    "# set up projections\n",
    "transformer_geo2ecef = pyproj.Transformer.from_crs(\n",
    "    {\"proj\":'latlong', \"ellps\":'WGS84', \"datum\":'WGS84'},\n",
    "    {\"proj\":'geocent', \"ellps\":'WGS84', \"datum\":'WGS84'},\n",
    "    )\n",
    "transformer_ecef2geo = pyproj.Transformer.from_crs(\n",
    "    {\"proj\":'geocent', \"ellps\":'WGS84', \"datum\":'WGS84'},\n",
    "    {\"proj\":'latlong', \"ellps\":'WGS84', \"datum\":'WGS84'},\n",
    "    )\n",
    "# convert phase center geodetic positions to Earth-centered, Earth-fixed coordinates (ECEF) \n",
    "x_ant_ecef, y_ant_ecef, z_ant_ecef = transformer_geo2ecef.transform(ant_lon,ant_lat,ant_ele,radians=False)\n",
    "del ant_lon, ant_lat"
   ]
  },
  {
   "cell_type": "code",
   "execution_count": 5,
   "id": "f95e7180-2d3c-4fc9-a5f0-54d2a920bc09",
   "metadata": {},
   "outputs": [],
   "source": [
    "# =============================================================================\n",
    "# helper function for converting antenna phase center ECEF coordinates\n",
    "# to sensor ECEF coordinates using lever arm and attitude information\n",
    "# =============================================================================\n",
    "\n",
    "def ecef_ant_pos_to_sensor_pos(ant_lon,ant_lat,x_ant_ecef, y_ant_ecef, z_ant_ecef,pitch, roll, yaw, lever_arm):\n",
    "\n",
    "    \"\"\"\n",
    "    SUMMARY:       The ecef_ant_pos_to_sensor_pos function calculates the location of an instrument's sensor using the geodetic coordinates of the \n",
    "                   phase center of the aircraft's GPS antenna, pitch, roll, and yaw (heading) and the instrument's lever arm measured in an\n",
    "                   aircraft-fixed cartesian coordinate system. The output is in a geocentric ECEF (Earth-centered, Earth-fixed) coordinate system \n",
    "\n",
    "    INPUT:\n",
    "        \n",
    "    lon            antenna in radians    \n",
    "\n",
    "    pitch          Aircraft pitch angle in radians from IMU data. Positive pitch = aircraft nose up. \n",
    "                   This parameter is also stored in /aircraft/pitch in ATM's waveform HDF5 files available from NSDIC (data products ILATMW1B and ILNSAW1B).\n",
    "\n",
    "    roll           Aircraft roll angle in radians from IMU data. Positive roll = starboard (right) wing down.\n",
    "                   This parameter is also stored in /aircraft/pitch in ATM's waveform HDF5 files available from NSDIC (data products ILATMW1B and ILNSAW1B).\n",
    "\n",
    "    yaw            Aircraft heading angle in radians true north from IMU data. Positive towards east. \n",
    "                   This parameter is also stored in /aircraft/heading in ATM's waveform HDF5 files available from NSDIC (data products ILATMW1B and ILNSAW1B).\n",
    "\n",
    "    lever_arm      3x1 displacement vector of the center of the camera's focal plane measured from the phase center\n",
    "                   of the aircraft's GPS antenna towards the scan mirror in an aircraft-fixed cartesian coordinate system.\n",
    "                   lever_arm = [lever_arm_x, lever_arm_y, lever_arm_z]\n",
    "                   \n",
    "    OUTPUT:        vector with ECEF coordinates of the camera's focal plane\n",
    "\n",
    "    SYNTAX:        sensor_ecef = ecef_ant_pos_to_sensor_pos(ant_ecef_x, ant_ecef_y, ant_ecef_z, pitch, roll, heading,lever_arm)\n",
    "    \"\"\"\n",
    "    \n",
    "    ant_ecef = np.array([x_ant_ecef, y_ant_ecef, z_ant_ecef])\n",
    "    \n",
    "    # set up rotation matrix to align sensor coordinate system with aircraft coordinate system with the x-axis in the direction of North\n",
    "    # the T(heading,pitch,roll) rotation aligns the sensor’s coordinate system with the aircraft coordinate system, with the x-axis in the direction of the North\n",
    "\n",
    "    cp = np.cos(pitch)\n",
    "    sp = np.sin(pitch)\n",
    "    cr = np.cos(roll)\n",
    "    sr = np.sin(roll)\n",
    "    ch = np.cos(yaw)\n",
    "    sh = np.sin(yaw)\n",
    "    \n",
    "    T = np.array([ [ch*cp, ch*sp*sr-sh*cr, ch*sp*cr+sh*sr],\n",
    "          [sh*cp, sh*sp*sr+ch*cr, sh*sp*cr-ch*sr],\n",
    "          [-1.0*sp,          cp*sr,          cp*cr ]])\n",
    "    \n",
    "    # rotate the sensor coordinates into a local North, East, Down (NED) coordinate system\n",
    "\n",
    "    st = np.sin(ant_lat)\n",
    "    ct = np.cos(ant_lat)\n",
    "    sl = np.sin(ant_lon)\n",
    "    cl = np.cos(ant_lon)\n",
    "    \n",
    "    NED_R = np.array([ [-1.0*st*cl, -1.0*sl, -1.0*ct*cl],\n",
    "                [-1.0*st*sl ,     cl , -1.0*ct*sl],\n",
    "                        [ct  ,     0  ,  -1.0*st] ])    \n",
    "\n",
    "    sensor_ecef = NED_R @ T @ lever_arm_sensor + ant_ecef\n",
    " \n",
    "    return sensor_ecef\n"
   ]
  },
  {
   "cell_type": "code",
   "execution_count": 6,
   "id": "abfefdad-1e8c-4f07-9ac6-14bf87cabac3",
   "metadata": {},
   "outputs": [],
   "source": [
    "# allocate empty arrays for faster execution - NOTE: calculations need to be done with float64 to get the required accuracy\n",
    "sensor_ecef_x = np.empty(ant_ele.size) # float64\n",
    "sensor_ecef_y = np.empty(ant_ele.size) # float64\n",
    "sensor_ecef_z = np.empty(ant_ele.size) # float64\n",
    "\n",
    "for i in range(ant_ele.size):\n",
    "   sensor_ecef = ecef_ant_pos_to_sensor_pos(lon_rad[i],lat_rad[i],x_ant_ecef[i], y_ant_ecef[i], z_ant_ecef[i],p_rad[i], r_rad[i], y_rad[i], lever_arm_sensor)\n",
    "   sensor_ecef_x[i] = sensor_ecef[0]\n",
    "   sensor_ecef_y[i] = sensor_ecef[1]\n",
    "   sensor_ecef_z[i] = sensor_ecef[2]\n"
   ]
  },
  {
   "cell_type": "code",
   "execution_count": 7,
   "id": "ee1d1db3-2151-4557-b645-bfa496a42344",
   "metadata": {},
   "outputs": [],
   "source": [
    "# transform sensor ECEF coordinates to geodetic\n",
    "lon_sen, lat_sen, alt_sen = transformer_ecef2geo.transform(sensor_ecef_x,sensor_ecef_y,sensor_ecef_z,radians=False)"
   ]
  },
  {
   "cell_type": "code",
   "execution_count": 8,
   "id": "f4ff0fc5-3c64-47c9-b397-066185450472",
   "metadata": {},
   "outputs": [
    {
     "name": "stdout",
     "output_type": "stream",
     "text": [
      "Converted 42691 phase center positions to camera focal plane positions: ..\\data\\nav\\IOCAM0_2019_GR_NASA_20190906_camera_positions.csv\n"
     ]
    }
   ],
   "source": [
    "# export new coordinates and also include attitude information\n",
    "f = open(f_name_asp, 'w')\n",
    "f.write(\"# ID, longitude, latitude, elevation, pitch, roll, yaw\\n\")\n",
    "for i in range(ant_ele.size):\n",
    "    f.write(f'{df.iloc[i, 0]:s},{lon_sen[i]:25.20f},{lat_sen[i]:25.20f},{alt_sen[i]:10.4f} ,{pitch[i]:10.4f}, {roll[i]:10.4f},{yaw[i]%360:10.4f}\\n')\n",
    "f.close()\n",
    "\n",
    "print(f'Converted {ant_ele.size:d} phase center positions to camera focal plane positions: {f_name_asp:s}')\n"
   ]
  }
 ],
 "metadata": {
  "kernelspec": {
   "display_name": "Python 3 (ipykernel)",
   "language": "python",
   "name": "python3"
  },
  "language_info": {
   "codemirror_mode": {
    "name": "ipython",
    "version": 3
   },
   "file_extension": ".py",
   "mimetype": "text/x-python",
   "name": "python",
   "nbconvert_exporter": "python",
   "pygments_lexer": "ipython3",
   "version": "3.9.13"
  }
 },
 "nbformat": 4,
 "nbformat_minor": 5
}
