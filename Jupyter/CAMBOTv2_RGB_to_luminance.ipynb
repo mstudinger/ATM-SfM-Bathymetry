{
 "cells": [
  {
   "cell_type": "markdown",
   "id": "b3a49088-15d2-4be1-815a-0493bd369fa3",
   "metadata": {},
   "source": [
    "## Conversion of CAMBOTv2 L0 natural-color (RGB) images\n",
    "## to single-channel grayscale (luminance) images"
   ]
  },
  {
   "cell_type": "markdown",
   "id": "b6dd70e7-8735-4c20-bc67-034bdd7c8f7c",
   "metadata": {},
   "source": [
    "To use ATM's CAMBOTv2 natural-color L0 (raw) images with the Ames Stereo Pipeline ([ASP](https://stereopipeline.readthedocs.io/en/latest/index.html)) they must be converted from RGB (red, green, blue) natural-color images to single-channel grayscale (luminance) images. The ASP user manual offers several ways to do this ([ASP RGB to gray](https://stereopipeline.readthedocs.io/en/latest/sfm.html#example-icebridge-dms-camera)). This Jupyter notebook demonstrates an alternative way for image conversion using the Pillow fork of the [Python Imaging Library](https://pillow.readthedocs.io/en/stable/). \n",
    "\n",
    "NASA's Airborne Topographic Mapper (ATM) CAMBOTv2 L0 raw images are freely available from the National Snow and Ice Data Center (data set ID: IOCAM0):  \n",
    "https://nsidc.org/data/iocam0/versions/1  \n",
    "DOI: https://doi.org/10.5067/IOJH8A5F48J5  \n",
    "**NOTE:** Several example images are included in this repository in the folder `data/rgb`."
   ]
  },
  {
   "cell_type": "markdown",
   "id": "4e4dac14-9330-4bd8-864e-1eb09eb411bf",
   "metadata": {},
   "source": [
    "First, load the required Python™ modules and set up processing options and parameters."
   ]
  },
  {
   "cell_type": "code",
   "execution_count": 1,
   "id": "48f0eac2-c36c-4295-9d33-88ce876079cb",
   "metadata": {},
   "outputs": [],
   "source": [
    "import os\n",
    "from PIL import Image\n",
    "\n",
    "# set processing options\n",
    "REPLACE = True    # overwrights existing luminance files if flag is set to True\n",
    "RENAME  = False   # if True luminance files will have the string\"_lum\" added at the end of the file names\n",
    "\n",
    "# set input and output directories for conversion\n",
    "f_dir_cam = r\"..\" + os.sep + \"data\"\n",
    "f_dir_rgb = f_dir_cam + os.sep + \"rgb\"  # directpory with original RGB images\n",
    "f_dir_lum = f_dir_cam + os.sep + \"lum\"  # directory with luminance (grayscale) converted images\n",
    "\n",
    "# check if above directories exist and if not create directory for output files\n",
    "if os.path.exists(f_dir_rgb):\n",
    "    if os.path.exists(f_dir_lum) == False:\n",
    "        os.makedirs(f_dir_lum)\n",
    "        print(\"Created new folder for output files: {}\".format(f_dir_lum))\n",
    "else:\n",
    "    os.sys.exit(\"Directory with CAMBOTv2 RGB files not found. Check directory paths.\")"
   ]
  },
  {
   "cell_type": "markdown",
   "id": "e698e559-4c3a-43d0-ad5e-cd18e27f26e9",
   "metadata": {},
   "source": [
    "Now get list of images to convert and save converted images in different folder called `data/lum`."
   ]
  },
  {
   "cell_type": "code",
   "execution_count": 2,
   "id": "ddd9967d-9f66-4fe7-a184-f8fb1f27fe15",
   "metadata": {},
   "outputs": [
    {
     "name": "stdout",
     "output_type": "stream",
     "text": [
      "Converting file: IOCAM0_2019_GR_NASA_20190906-132014.4217.jpg\n",
      "Converting file: IOCAM0_2019_GR_NASA_20190906-132014.9217.jpg\n",
      "Converting file: IOCAM0_2019_GR_NASA_20190906-132015.4217.jpg\n",
      "Converting file: IOCAM0_2019_GR_NASA_20190906-132015.9217.jpg\n",
      "Converting file: IOCAM0_2019_GR_NASA_20190906-132016.4217.jpg\n",
      "Converting file: IOCAM0_2019_GR_NASA_20190906-132016.9217.jpg\n",
      "Converting file: IOCAM0_2019_GR_NASA_20190906-132017.4218.jpg\n",
      "Converting file: IOCAM0_2019_GR_NASA_20190906-132017.9217.jpg\n"
     ]
    }
   ],
   "source": [
    "# get list with names of CAMBOTv2 L0 .jpg files to convert\n",
    "# r = root, d = directories, f = files\n",
    "\n",
    "for r, d, f in os.walk(f_dir_rgb): \n",
    "    for file in f:\n",
    "        if (file.startswith(\"IOCAM0\") & file.endswith(\".jpg\")):\n",
    "            f_name_inp = f_dir_rgb + os.sep + file\n",
    "            f_name_out = f_dir_lum + os.sep + file\n",
    "            f_name_tmp = os.path.splitext(f_name_out)\n",
    "            if RENAME:\n",
    "                f_name_lum = f_name_tmp[0] + \"_lum\" + f_name_tmp[1]\n",
    "            else:\n",
    "                f_name_lum = f_name_tmp[0] + f_name_tmp[1]\n",
    "                \n",
    "            del f_name_out, f_name_tmp\n",
    "            \n",
    "            if os.path.exists(f_name_lum) == False or REPLACE == True:\n",
    "                print(\"Converting file: {}\".format(file))\n",
    "                # open the RGB image\n",
    "                image_rgb = Image.open(f_name_inp)\n",
    "                # get EXIF info\n",
    "                exif = image_rgb.info['exif']\n",
    "                # convert the RGB image to grayscale\n",
    "                image_gray =  image_rgb.convert(\"L\") # L stands for luminance\n",
    "                # save the grayscale image with EXIF info\n",
    "                image_gray.save(f_name_lum, exif=exif)"
   ]
  },
  {
   "cell_type": "code",
   "execution_count": null,
   "id": "23389438-3d66-4478-9fe4-bf5335def467",
   "metadata": {},
   "outputs": [],
   "source": []
  }
 ],
 "metadata": {
  "kernelspec": {
   "display_name": "Python 3 (ipykernel)",
   "language": "python",
   "name": "python3"
  },
  "language_info": {
   "codemirror_mode": {
    "name": "ipython",
    "version": 3
   },
   "file_extension": ".py",
   "mimetype": "text/x-python",
   "name": "python",
   "nbconvert_exporter": "python",
   "pygments_lexer": "ipython3",
   "version": "3.9.13"
  }
 },
 "nbformat": 4,
 "nbformat_minor": 5
}
